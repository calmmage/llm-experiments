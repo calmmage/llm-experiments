{
 "cells": [
  {
   "cell_type": "code",
   "id": "initial_id",
   "metadata": {
    "collapsed": true,
    "ExecuteTime": {
     "end_time": "2024-05-03T19:32:20.212954Z",
     "start_time": "2024-05-03T19:32:20.208482Z"
    }
   },
   "source": "print(1)",
   "outputs": [
    {
     "name": "stdout",
     "output_type": "stream",
     "text": [
      "1\n"
     ]
    }
   ],
   "execution_count": 1
  },
  {
   "metadata": {
    "ExecuteTime": {
     "end_time": "2024-05-03T19:39:11.744729Z",
     "start_time": "2024-05-03T19:39:11.232860Z"
    }
   },
   "cell_type": "code",
   "source": [
    "import openai\n",
    "# api key\n",
    "from dotenv import load_dotenv\n",
    "import os\n",
    "load_dotenv()\n",
    "api_key = os.getenv(\"OPENAI_API_KEY\")\n",
    "# openai.api_key = api_key\n",
    "\n",
    "from openai import OpenAI\n"
   ],
   "id": "fbda68c0d0d8f4a",
   "outputs": [],
   "execution_count": 2
  },
  {
   "metadata": {
    "ExecuteTime": {
     "end_time": "2024-05-03T19:39:17.862463Z",
     "start_time": "2024-05-03T19:39:17.859690Z"
    }
   },
   "cell_type": "code",
   "source": [
    "client = OpenAI(api_key=api_key)\n",
    "def simple_query_openai(text, model=\"gpt-3.5-turbo\"):\n",
    "    \n",
    "    response = client.chat.completions.create(\n",
    "      model=model,\n",
    "      messages=[\n",
    "        {\"role\": \"system\", \"content\": \"You are a helpful assistant.\"},\n",
    "        {\"role\": \"user\", \"content\": text}\n",
    "      ]\n",
    "    )\n",
    "    return response.choices[0].message.content"
   ],
   "id": "a0e275a60b5c800b",
   "outputs": [],
   "execution_count": 3
  },
  {
   "metadata": {
    "ExecuteTime": {
     "end_time": "2024-05-03T19:39:19.905544Z",
     "start_time": "2024-05-03T19:39:18.842502Z"
    }
   },
   "cell_type": "code",
   "source": [
    "# try running inline\n",
    "res = simple_query_openai(\"What is the capital of France?\")\n",
    "print(res)"
   ],
   "id": "e4c2c9a00b0edbe7",
   "outputs": [
    {
     "name": "stdout",
     "output_type": "stream",
     "text": [
      "The capital of France is Paris.\n"
     ]
    }
   ],
   "execution_count": 4
  },
  {
   "metadata": {},
   "cell_type": "markdown",
   "source": "Trying Langchain",
   "id": "44064e540dd1d2f5"
  },
  {
   "metadata": {},
   "cell_type": "code",
   "outputs": [],
   "execution_count": null,
   "source": [
    "# import langchain\n",
    "# import langchain_openai\n",
    "# from langchain_openai import OpenAI as LangchainOpenAI\n",
    "# client = LangchainOpenAI(api_key=api_key)\n",
    "# now, let's try langchain\n",
    "# def simple_query_langchain(text):\n",
    "\n",
    "# Wait, actually, it doesn't make sense to do this stupid thing with LangChain. How about we instead try doing something more complex.\n",
    "# let's start with a simple chat.\n",
    "\n"
   ],
   "id": "1006b0e833bb68ed"
  },
  {
   "metadata": {},
   "cell_type": "markdown",
   "source": "Examples",
   "id": "e2aa4aa65dfcba13"
  },
  {
   "metadata": {},
   "cell_type": "markdown",
   "source": "Step 1: Find Misha's examples? How? langchain env tokens or somethign... ",
   "id": "7b67cf86e967da00"
  },
  {
   "metadata": {
    "ExecuteTime": {
     "end_time": "2024-05-03T21:47:50.519696Z",
     "start_time": "2024-05-03T21:47:50.447762Z"
    }
   },
   "cell_type": "code",
   "source": [
    "from langchain_anthropic import ChatAnthropic\n",
    "from langchain_openai import ChatOpenAI\n",
    "\n",
    "common_settings = {\n",
    "    \"request_timeout\": 60,\n",
    "    \"max_retries\": 3,\n",
    "    \"max_tokens\": 1024,\n",
    "}\n",
    "\n",
    "basic_llm = ChatOpenAI(model=\"gpt-3.5-turbo-0125\", **common_settings)\n",
    "static_llm = ChatOpenAI(model=\"gpt-3.5-turbo-0125\", **common_settings, temperature=0.0)\n",
    "mid_llm = ChatOpenAI(model=\"gpt-4-0125-preview\", **common_settings)\n",
    "smart_llm = ChatOpenAI(model=\"gpt-4\", **common_settings)\n",
    "vision_llm = ChatOpenAI(model=\"gpt-4-vision-preview\", **common_settings)\n",
    "\n",
    "anthropic_settings = {\n",
    "    \"max_retries\": 3,\n",
    "}\n",
    "anthropic_mid_llm = ChatAnthropic(model=\"claude-3-sonnet-20240229\", **anthropic_settings)\n",
    "anthropic_smart_llm = ChatAnthropic(model=\"claude-3-opus-20240229\", **anthropic_settings)"
   ],
   "id": "f889cc66f715b42",
   "outputs": [],
   "execution_count": 7
  },
  {
   "metadata": {},
   "cell_type": "markdown",
   "source": "# now, let's' try a simple chat interface",
   "id": "2570a686b8b82fdf"
  },
  {
   "metadata": {
    "ExecuteTime": {
     "end_time": "2024-05-03T21:48:43.771519Z",
     "start_time": "2024-05-03T21:48:43.769017Z"
    }
   },
   "cell_type": "code",
   "source": [
    "def run_chat(llm):\n",
    "    while True:\n",
    "        user_input = input(\"You: \")\n",
    "        if user_input == \"exit\":\n",
    "            break\n",
    "        response = llm.invoke(user_input)\n",
    "        ## Sample response:\n",
    "        # content='I\\'m sorry, I\\'m not sure what you mean by \"secret is Maria.\" Can you please provide more context or clarify your statement?' response_metadata={'token_usage': {'completion_tokens': 28, 'prompt_tokens': 10, 'total_tokens': 38}, 'model_name': 'gpt-3.5-turbo-0125', 'system_fingerprint': 'fp_3b956da36b', 'finish_reason': 'stop', 'logprobs': None} id='run-95f31f47-523f-4063-96e0-485f8992ef13-0'\n",
    "        print(\"Bot:\", response)\n",
    "        "
   ],
   "id": "659e57a2b9b27022",
   "outputs": [],
   "execution_count": 10
  },
  {
   "metadata": {
    "ExecuteTime": {
     "end_time": "2024-05-03T21:49:08.192196Z",
     "start_time": "2024-05-03T21:48:44.649654Z"
    }
   },
   "cell_type": "code",
   "source": "run_chat(basic_llm)",
   "id": "89193c69f546cd05",
   "outputs": [
    {
     "name": "stdout",
     "output_type": "stream",
     "text": [
      "Bot: content='I\\'m sorry, I\\'m not sure what you mean by \"secret is Maria.\" Can you please provide more context or clarify your statement?' response_metadata={'token_usage': {'completion_tokens': 28, 'prompt_tokens': 10, 'total_tokens': 38}, 'model_name': 'gpt-3.5-turbo-0125', 'system_fingerprint': 'fp_3b956da36b', 'finish_reason': 'stop', 'logprobs': None} id='run-95f31f47-523f-4063-96e0-485f8992ef13-0'\n",
      "Bot: content='The secret varies depending on the context in which it is being discussed. It could be a piece of information that is known by only a select few individuals, a mystery waiting to be solved, or a special technique or method that is known to produce exceptional results. Ultimately, the secret is subjective and can only be determined based on the specific situation in which it is being referenced.' response_metadata={'token_usage': {'completion_tokens': 75, 'prompt_tokens': 12, 'total_tokens': 87}, 'model_name': 'gpt-3.5-turbo-0125', 'system_fingerprint': 'fp_a450710239', 'finish_reason': 'stop', 'logprobs': None} id='run-9c039e7a-ec53-4a13-90c3-c0e197906b58-0'\n"
     ]
    }
   ],
   "execution_count": 11
  },
  {
   "metadata": {},
   "cell_type": "markdown",
   "source": "# Apparently, message history is not trivial... let's try some more",
   "id": "1d32d4daa33bd97"
  },
  {
   "metadata": {
    "ExecuteTime": {
     "end_time": "2024-05-03T22:52:40.817344Z",
     "start_time": "2024-05-03T22:52:40.813177Z"
    }
   },
   "cell_type": "code",
   "source": "",
   "id": "7827c14aa282154b",
   "outputs": [],
   "execution_count": 16
  },
  {
   "metadata": {
    "ExecuteTime": {
     "end_time": "2024-05-03T22:51:58.189097Z",
     "start_time": "2024-05-03T22:51:58.184895Z"
    }
   },
   "cell_type": "code",
   "source": [
    "# MessagesPlaceholder(\"chat_history\"),\n",
    "# import langchain.chains.history_aware_retriever\n",
    "\n",
    "### Statefully manage chat history ###\n"
   ],
   "id": "71e2f3f17820b740",
   "outputs": [],
   "execution_count": 14
  },
  {
   "metadata": {
    "ExecuteTime": {
     "end_time": "2024-05-03T22:52:04.954964Z",
     "start_time": "2024-05-03T22:52:04.950521Z"
    }
   },
   "cell_type": "code",
   "source": [
    "# chain =        prompt | llm | StrOutputParser() | retriever,\n",
    "# history_processor = # - optional? \n",
    "# prompt = \"\"\"You are a helpful assistant.\n",
    "# MESSAGE_HISTORY:\n",
    "# {message_history}\n",
    "# USER:\n",
    "# {user_input}\n",
    "# \"\"\" # todo: is this how the prompt should look like?\n",
    "# chat_chain = ChatChain(\n",
    "#     prompt=prompt,\n",
    "#     llm=basic_llm,\n",
    "#     output_parser=StrOutputParser(),\n",
    "#     retriever=retriever,\n",
    "#     history_processor=None,\n",
    "#     input_messages_key=\"user_input\",\n",
    "#     history_messages_key=\"message_history\",\n",
    "#     output_messages_key=\"answer\",\n",
    "# )\n",
    "# llm = basic_llm\n",
    "# output_parser = StrOutputParser()\n",
    "# retriever = langchain.chains.history_aware_retriever.HistoryAwareRetriever(get_session_history)"
   ],
   "id": "b81263c7b59eba54",
   "outputs": [
    {
     "ename": "SyntaxError",
     "evalue": "incomplete input (3589110802.py, line 8)",
     "output_type": "error",
     "traceback": [
      "\u001B[0;36m  Cell \u001B[0;32mIn[15], line 8\u001B[0;36m\u001B[0m\n\u001B[0;31m    \"\"\" # todo: is this how the prompt should look like?\u001B[0m\n\u001B[0m    ^\u001B[0m\n\u001B[0;31mSyntaxError\u001B[0m\u001B[0;31m:\u001B[0m incomplete input\n"
     ]
    }
   ],
   "execution_count": 15
  },
  {
   "metadata": {},
   "cell_type": "code",
   "outputs": [],
   "execution_count": null,
   "source": "",
   "id": "9ecc0ea18423086a"
  },
  {
   "metadata": {
    "ExecuteTime": {
     "end_time": "2024-05-03T22:52:50.334919Z",
     "start_time": "2024-05-03T22:52:50.332120Z"
    }
   },
   "cell_type": "code",
   "source": [
    "# Final result should look like this:\n",
    "# chat_chain = history_processor | prompt | llm | output_parser\n",
    "# output_parser should be simple: StrOutputParser()\n",
    "# llm is also pretty simple - any of the ones we defined above\n",
    "llm = basic_llm\n",
    "# prompt I am not sure about and have 2-3 different options / ideas"
   ],
   "id": "84e4a581991d38d2",
   "outputs": [],
   "execution_count": 19
  },
  {
   "metadata": {
    "ExecuteTime": {
     "end_time": "2024-05-03T22:54:34.011657Z",
     "start_time": "2024-05-03T22:54:33.993353Z"
    }
   },
   "cell_type": "code",
   "source": [
    "# 1) what format should the prompt follow? There seem to be a thing \"ChatPromptTemplate\", with MessagesPlaceholder(\"chat_history\"), \n",
    "# should I use that?\n",
    "# 2) who and how passes us the \"chat_history\"?. \n",
    "# it seems there's some kind of \"RunnablePassthrough\" that accepts some kind of complex formatter, which is able to extract the necessary data\n",
    "# in our case all the extractions are really straightforward\n",
    "# But I still need to know who and in which format passes us the \"chat_history\"\n"
   ],
   "id": "740a43337bfe09fc",
   "outputs": [],
   "execution_count": 25
  },
  {
   "metadata": {
    "ExecuteTime": {
     "end_time": "2024-05-03T22:54:34.656273Z",
     "start_time": "2024-05-03T22:54:34.654244Z"
    }
   },
   "cell_type": "code",
   "source": [
    "# for now - let's try just like that..\n",
    "chat_chain = prompt | llm | output_parser\n",
    "# chat_chain = history_processor | prompt | llm | output_parser"
   ],
   "id": "dc4bb5036dc2ba18",
   "outputs": [],
   "execution_count": 26
  },
  {
   "metadata": {
    "ExecuteTime": {
     "end_time": "2024-05-03T23:01:52.084607Z",
     "start_time": "2024-05-03T23:01:52.078224Z"
    }
   },
   "cell_type": "code",
   "source": [
    "\n",
    "app = RunnableWithMessageHistory(\n",
    "    # rag_chain,\n",
    "    chat_chain,\n",
    "    get_session_history,\n",
    "    input_messages_key=\"input\",\n",
    "    history_messages_key=\"chat_history\",\n",
    "    # output_messages_key=\"answer\",\n",
    ")"
   ],
   "id": "ed9b4fb250d01463",
   "outputs": [],
   "execution_count": 31
  },
  {
   "metadata": {
    "ExecuteTime": {
     "end_time": "2024-05-03T23:01:52.833320Z",
     "start_time": "2024-05-03T23:01:52.830390Z"
    }
   },
   "cell_type": "code",
   "source": "",
   "id": "ca93e219e0e1b221",
   "outputs": [],
   "execution_count": 32
  },
  {
   "metadata": {
    "ExecuteTime": {
     "end_time": "2024-05-03T23:01:59.661727Z",
     "start_time": "2024-05-03T23:01:53.531225Z"
    }
   },
   "cell_type": "code",
   "source": "run_chat()",
   "id": "f548875f3dcf6788",
   "outputs": [
    {
     "name": "stdout",
     "output_type": "stream",
     "text": [
      "Start chatting! Type 'exit' to quit.\n"
     ]
    },
    {
     "name": "stderr",
     "output_type": "stream",
     "text": [
      "Parent run 0013ad61-c4fa-4f66-98bb-6341e6779770 not found for run a708fdb1-7a7d-4a8c-a66e-8e0ca0fe88c7. Treating as a root run.\n"
     ]
    },
    {
     "ename": "TypeError",
     "evalue": "string indices must be integers, not 'str'",
     "output_type": "error",
     "traceback": [
      "\u001B[0;31m---------------------------------------------------------------------------\u001B[0m",
      "\u001B[0;31mTypeError\u001B[0m                                 Traceback (most recent call last)",
      "Cell \u001B[0;32mIn[33], line 1\u001B[0m\n\u001B[0;32m----> 1\u001B[0m \u001B[43mrun_chat\u001B[49m\u001B[43m(\u001B[49m\u001B[43m)\u001B[49m\n",
      "Cell \u001B[0;32mIn[32], line 16\u001B[0m, in \u001B[0;36mrun_chat\u001B[0;34m(session_id)\u001B[0m\n\u001B[1;32m     14\u001B[0m     \u001B[38;5;28;01mbreak\u001B[39;00m\n\u001B[1;32m     15\u001B[0m res \u001B[38;5;241m=\u001B[39m chat(session_id, user_input)\n\u001B[0;32m---> 16\u001B[0m answer \u001B[38;5;241m=\u001B[39m \u001B[43mres\u001B[49m\u001B[43m[\u001B[49m\u001B[38;5;124;43m\"\u001B[39;49m\u001B[38;5;124;43manswer\u001B[39;49m\u001B[38;5;124;43m\"\u001B[39;49m\u001B[43m]\u001B[49m\n\u001B[1;32m     17\u001B[0m \u001B[38;5;28mprint\u001B[39m(\u001B[38;5;124mf\u001B[39m\u001B[38;5;124m\"\u001B[39m\u001B[38;5;124mBot: \u001B[39m\u001B[38;5;132;01m{\u001B[39;00manswer\u001B[38;5;132;01m}\u001B[39;00m\u001B[38;5;124m\"\u001B[39m)\n",
      "\u001B[0;31mTypeError\u001B[0m: string indices must be integers, not 'str'"
     ]
    }
   ],
   "execution_count": 33
  },
  {
   "metadata": {
    "ExecuteTime": {
     "end_time": "2024-05-03T23:02:16.569882Z",
     "start_time": "2024-05-03T23:02:14.653718Z"
    }
   },
   "cell_type": "code",
   "source": [
    "user_input = \"Hello! How are you doing? Generate a random color. Also, remember this word: silence\"\n",
    "\n",
    "session_id = str(uuid.uuid4())\n",
    "res = chat(session_id, user_input)"
   ],
   "id": "cc76657df365fde6",
   "outputs": [
    {
     "name": "stderr",
     "output_type": "stream",
     "text": [
      "Parent run 13e8f695-f2e9-491f-9c41-0ca84cd61bc2 not found for run 233a9311-3688-4585-8bd3-d39e3de25d63. Treating as a root run.\n"
     ]
    }
   ],
   "execution_count": 34
  },
  {
   "metadata": {
    "ExecuteTime": {
     "end_time": "2024-05-03T23:08:41.028994Z",
     "start_time": "2024-05-03T23:08:41.013223Z"
    }
   },
   "cell_type": "code",
   "source": "res",
   "id": "48ff70769134e8d",
   "outputs": [
    {
     "data": {
      "text/plain": [
       "'Hello! I\\'m doing well, thank you for asking. Here is a randomly generated color for you: Coral. And I\\'ll remember the word \"silence\" for our conversation. How can I assist you today?'"
      ]
     },
     "execution_count": 35,
     "metadata": {},
     "output_type": "execute_result"
    }
   ],
   "execution_count": 35
  },
  {
   "metadata": {
    "ExecuteTime": {
     "end_time": "2024-05-03T23:09:11.259066Z",
     "start_time": "2024-05-03T23:09:10.008407Z"
    }
   },
   "cell_type": "code",
   "source": [
    "user_input = \"What is the color and what is the secret word?\"\n",
    "res = chat(session_id, user_input)\n",
    "res"
   ],
   "id": "e1e40698ac6e8c10",
   "outputs": [
    {
     "name": "stderr",
     "output_type": "stream",
     "text": [
      "Parent run 2d8f455c-a7f6-4e6f-8d62-37a56c5d72c0 not found for run 0d058238-7c2f-417f-a3d1-d8e902925bc2. Treating as a root run.\n"
     ]
    },
    {
     "data": {
      "text/plain": [
       "'The color is Coral and the secret word is \"silence.\" How can I help you further?'"
      ]
     },
     "execution_count": 36,
     "metadata": {},
     "output_type": "execute_result"
    }
   ],
   "execution_count": 36
  },
  {
   "metadata": {},
   "cell_type": "code",
   "outputs": [],
   "execution_count": null,
   "source": "",
   "id": "31eb1e04dc8032e5"
  }
 ],
 "metadata": {
  "kernelspec": {
   "display_name": "Python 3",
   "language": "python",
   "name": "python3"
  },
  "language_info": {
   "codemirror_mode": {
    "name": "ipython",
    "version": 2
   },
   "file_extension": ".py",
   "mimetype": "text/x-python",
   "name": "python",
   "nbconvert_exporter": "python",
   "pygments_lexer": "ipython2",
   "version": "2.7.6"
  }
 },
 "nbformat": 4,
 "nbformat_minor": 5
}
