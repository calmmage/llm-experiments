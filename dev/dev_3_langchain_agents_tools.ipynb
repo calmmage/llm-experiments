{
 "cells": [
  {
   "cell_type": "code",
   "id": "initial_id",
   "metadata": {
    "collapsed": true,
    "ExecuteTime": {
     "end_time": "2024-05-05T00:03:22.445228Z",
     "start_time": "2024-05-05T00:03:22.441547Z"
    }
   },
   "source": "print(1)",
   "outputs": [
    {
     "name": "stdout",
     "output_type": "stream",
     "text": [
      "1\n"
     ]
    }
   ],
   "execution_count": 1
  },
  {
   "metadata": {},
   "cell_type": "markdown",
   "source": "# Use langchain tool",
   "id": "ea530953bdba8ac8"
  },
  {
   "metadata": {},
   "cell_type": "code",
   "outputs": [],
   "execution_count": null,
   "source": [
    "# I already did this somewhere. Find? \n",
    "# I think we did this with Kostya"
   ],
   "id": "15775fd6144ba598"
  },
  {
   "metadata": {},
   "cell_type": "code",
   "outputs": [],
   "execution_count": null,
   "source": [
    "from langchain import hub\n",
    "from langchain_community.chat_models import ChatOpenAI\n",
    "from langchain.agents import AgentExecutor, create_structured_chat_agent\n",
    "\n",
    "prompt = hub.pull(\"hwchase17/structured-chat-agent\")\n",
    "model = ChatOpenAI()\n",
    "tools = ...\n",
    "\n",
    "agent = create_structured_chat_agent(model, tools, prompt)\n",
    "agent_executor = AgentExecutor(agent=agent, tools=tools)\n",
    "\n",
    "agent_executor.invoke({\"input\": \"hi\"})\n",
    "\n",
    "# Using with chat history\n",
    "from langchain_core.messages import AIMessage, HumanMessage\n",
    "agent_executor.invoke(\n",
    "    {\n",
    "        \"input\": \"what's my name?\",\n",
    "        \"chat_history\": [\n",
    "            HumanMessage(content=\"hi! my name is bob\"),\n",
    "            AIMessage(content=\"Hello Bob! How can I assist you today?\"),\n",
    "        ],\n",
    "    }\n",
    ")"
   ],
   "id": "19a3cfcbda3290e8"
  },
  {
   "metadata": {
    "ExecuteTime": {
     "end_time": "2024-05-05T00:56:28.530056Z",
     "start_time": "2024-05-05T00:56:28.526135Z"
    }
   },
   "cell_type": "code",
   "source": [
    "# tool 1\n",
    "import random\n",
    "def generate_random_number():\n",
    "    \"\"\"Generate a random number between 1 and 100\"\"\"\n",
    "    return random.randint(1, 100)\n",
    "tool_1 = generate_random_number"
   ],
   "id": "7ea3ff091acb7087",
   "outputs": [],
   "execution_count": 14
  },
  {
   "metadata": {
    "ExecuteTime": {
     "end_time": "2024-05-05T00:56:28.857107Z",
     "start_time": "2024-05-05T00:56:28.853796Z"
    }
   },
   "cell_type": "code",
   "source": [
    "# tool 2 \n",
    "def save_text_to_file(text: str, file_path: str):\n",
    "    \"\"\"Save text to a file. Only allow relative paths within pwd.\"\"\"\n",
    "    if file_path.startswith(\"/\") or \"..\" in file_path:\n",
    "        raise ValueError(\"Only relative paths are allowed\")\n",
    "    with open(file_path, \"w\") as file:\n",
    "        file.write(text)\n",
    "tool_2 = save_text_to_file"
   ],
   "id": "86ca6264b3b8b2f4",
   "outputs": [],
   "execution_count": 15
  },
  {
   "metadata": {},
   "cell_type": "code",
   "outputs": [],
   "execution_count": null,
   "source": [
    "from typing import Type\n",
    "\n",
    "from langchain_community.tools.office365.base import BaseTool\n",
    "from langchain_core.pydantic_v1 import BaseModel\n",
    "\n",
    "\n",
    "class Tool1Schema(BaseModel):\n",
    "    \"\"\"Input for Tool1.\"\"\"\n",
    "\n",
    "\n",
    "from nltk.corpus import wordnet as wn\n",
    "\n",
    "adjs = list(wn.all_synsets(wn.ADJ))\n",
    "nouns = list(wn.all_synsets(wn.NOUN))\n",
    "\n",
    "\n",
    "def generate_random_collocation():\n",
    "    \"\"\"Generate a random pair of words - adj + noun\n",
    "    use nltk corpus for this\"\"\"\n",
    "    import random\n",
    "    adj = random.choice(adjs)\n",
    "    noun = random.choice(nouns)\n",
    "    # Extract the first lemma name from each synset to get the actual words\n",
    "    adj_word = adj.lemmas()[0].name()\n",
    "    noun_word = noun.lemmas()[0].name()\n",
    "\n",
    "    # Return the formatted string\n",
    "    return f\"{adj_word} {noun_word}\"\n",
    "\n",
    "\n",
    "class RandomCollocationTool(BaseTool):\n",
    "    \"\"\"generate a random pair adj + noun\"\"\"\n",
    "\n",
    "    name: str = \"Random Word Pair Generator\"\n",
    "    description: str = (\n",
    "        \"\"\"Use this tool to generate a random pair of words - an adjective and a noun.\"\"\"\n",
    "    )\n",
    "    args_schema: Type[Tool1Schema] = Tool1Schema\n",
    "\n",
    "    usage_count = 0\n",
    "    results = []\n",
    "\n",
    "    def _run(\n",
    "            self,\n",
    "    ) -> str:\n",
    "        self.usage_count += 1\n",
    "        result = tool_1()\n",
    "        self.results.append(result)\n",
    "        return result\n"
   ],
   "id": "69422449dc26ef53"
  },
  {
   "metadata": {
    "ExecuteTime": {
     "end_time": "2024-05-05T00:35:57.046193Z",
     "start_time": "2024-05-05T00:35:57.037837Z"
    }
   },
   "cell_type": "code",
   "source": [
    "import inspect\n",
    "from pydantic import BaseModel, create_model\n",
    "from typing import Any, Callable\n",
    "\n",
    "def create_pydantic_model_from_func(func: Callable) -> Any:\n",
    "    # Get the function signature\n",
    "    signature = inspect.signature(func)\n",
    "    # Extract function name for documentation purposes\n",
    "    func_name = func.__name__\n",
    "    \n",
    "    # Prepare field definitions for the Pydantic model\n",
    "    fields = {}\n",
    "    \n",
    "    for name, param in signature.parameters.items():\n",
    "        \n",
    "        # Type annotation handling (default to Any if not specified)\n",
    "        field_type = param.annotation if param.annotation != inspect.Parameter.empty else Any\n",
    "        \n",
    "        # Check if there is a default value\n",
    "        default = None\n",
    "        if param.default != inspect.Parameter.empty:\n",
    "            default = param.default\n",
    "\n",
    "        # Add the field to the dictionary\n",
    "        fields[name] = (field_type, default)\n",
    "    \n",
    "    # Create the Pydantic model dynamically\n",
    "    return create_model(f'{func_name.title()}Model', **fields)\n",
    "\n",
    "# Example usage\n",
    "def my_function(a: int, b: str = 'default', c: float = 10.5):\n",
    "    pass\n",
    "\n",
    "# Create the Pydantic model\n",
    "ToolSchema = create_pydantic_model_from_func(my_function)\n",
    "\n",
    "# Show what the model looks like\n",
    "print(ToolSchema.schema_json(indent=2))\n"
   ],
   "id": "2d84a5fa9ab5b0b1",
   "outputs": [
    {
     "name": "stdout",
     "output_type": "stream",
     "text": [
      "{\n",
      "  \"properties\": {\n",
      "    \"a\": {\n",
      "      \"default\": null,\n",
      "      \"title\": \"A\",\n",
      "      \"type\": \"integer\"\n",
      "    },\n",
      "    \"b\": {\n",
      "      \"default\": \"default\",\n",
      "      \"title\": \"B\",\n",
      "      \"type\": \"string\"\n",
      "    },\n",
      "    \"c\": {\n",
      "      \"default\": 10.5,\n",
      "      \"title\": \"C\",\n",
      "      \"type\": \"number\"\n",
      "    }\n",
      "  },\n",
      "  \"title\": \"My_FunctionModel\",\n",
      "  \"type\": \"object\"\n",
      "}\n"
     ]
    }
   ],
   "execution_count": 10
  },
  {
   "metadata": {
    "ExecuteTime": {
     "end_time": "2024-05-05T00:35:58.341988Z",
     "start_time": "2024-05-05T00:35:58.337542Z"
    }
   },
   "cell_type": "code",
   "source": [
    "t = ToolSchema(a=1, b='test', c=3.14)\n",
    "t2 = ToolSchema(a=2)\n",
    "t, t2"
   ],
   "id": "6424e1dd9387b62e",
   "outputs": [
    {
     "data": {
      "text/plain": [
       "(My_FunctionModel(a=1, b='test', c=3.14),\n",
       " My_FunctionModel(a=2, b='default', c=10.5))"
      ]
     },
     "execution_count": 11,
     "metadata": {},
     "output_type": "execute_result"
    }
   ],
   "execution_count": 11
  },
  {
   "metadata": {
    "ExecuteTime": {
     "end_time": "2024-05-05T01:05:14.294149Z",
     "start_time": "2024-05-05T01:05:14.284212Z"
    }
   },
   "cell_type": "code",
   "source": [
    "# now, let's write a method that generates a properly formatted langchain tool from a function\n",
    "# if the necessary metadata is missing - generate it using ai and function code or just the signature\n",
    "from src.lib import simple_query_openai\n",
    "import inspect\n",
    "\n",
    "\n",
    "PROMPT = f\"\"\"You're description generator. You generate descriptions for functions given their source code. You output the name and description as a simple json object.\n",
    "Take into account original function name and dosctring, if present, but don't rely on them too much. Use the function signature and code to generate the description. YOU SHOULD OVERRIDE INCORRECT NAMES AND DESCRIPTIONS.\n",
    "OUTPUT EXAMPLE:\n",
    "{{\n",
    "    \"name\": \"function_name\",\n",
    "    \"description\": \"function_description\"\n",
    "}}\n",
    "\"\"\"\n",
    "WARMUP_MESSAGES = [{\"role\": \"user\", \"content\": \"\"\"\n",
    "def sum_a_b(a: int, b: int) -> int:\n",
    "    return a + b\n",
    "\"\"\"}, {\"role\": \"assistant\", \"content\": \"\"\"\n",
    "{\"name\": \"sum_two_numbers\", \"description\": \"A function that takes two numbers and returns their sum.\"}\n",
    "\"\"\"}, {\"role\": \"user\", \"content\": \"\"\"\n",
    "def func(n):\n",
    "   \"This function does amaing magic and performs super complex math with number and guesses what you wanted to do!\"\n",
    "   res = 0\n",
    "   for _ in range(n):\n",
    "       res *= n\n",
    "    return res\n",
    "\"\"\"}, {\"role\": \"assistant\", \"content\": \"\"\"\n",
    "{\"name\": \"factorial\", \"description\": \"A function that calculates the factorial of a number.\"}\n",
    "\"\"\"}\n",
    "                   ]\n",
    "\n",
    "import json\n",
    "def generate_tool_description(code,model=\"gpt-3-turbo\",\n",
    "                              num_retries=3):\n",
    "    attempts = []\n",
    "    for _ in range(num_retries):\n",
    "        try:\n",
    "            result = simple_query_openai(code, model=model, system=PROMPT, messages=WARMUP_MESSAGES)\n",
    "            data = json.loads(result)\n",
    "            if \"name\" not in data:\n",
    "                raise ValueError(\"Name not found in the response:\" + result)\n",
    "            if \"description\" not in data:\n",
    "                raise ValueError(\"Description not found in the response:\" + result)\n",
    "            return data\n",
    "        except Exception as e:\n",
    "            attempts.append(e)\n",
    "    else:\n",
    "        raise ValueError(\"Failed to generate a description for the function, attempts:\", attempts)\n",
    "\n",
    "def generate_tool_from_function(func):\n",
    "    # todo: use cached metadata if available.\n",
    "    #  where should it be located? in the same directory as the function?\n",
    "    #  or in the current working directory?\n",
    "    #  use environment variables to specify the location of the metadata cache.\n",
    "    #  what is default?\n",
    "    #  option 1: some static file / dir on the disk - e.g. ~/.langchain\n",
    "    #  option 2: cur dir\n",
    "    #  option 3: lib dir\n",
    "    \n",
    "    # get the function code\n",
    "    tool_code = inspect.getsource(func)\n",
    "    \n",
    "    tool_name = func.__name__\n",
    "    # todo: check if the func name is adequate for what it does.\n",
    "    \n",
    "    \n",
    "        \n",
    "    \n",
    "    tool_docstring = inspect.getdoc(func)\n",
    "    if tool_docstring is None:\n",
    "        # todo: rewrite this, make this much smarter\n",
    "        #  a) use the function signature to generate a docstring\n",
    "        #  b) use the function code to generate a docstring\n",
    "        tool_docstring = simple_query_openai(\n",
    "            f\"What does the function {func.__name__} do?\")\n",
    "    \n",
    "    tool_description = None\n",
    "    \n",
    "    tool_schema = create_pydantic_model_from_func(func)\n",
    "    \n",
    "    class Tool(BaseTool):\n",
    "        f\"\"\"{tool_docstring}\"\"\"\n",
    "        \n",
    "        name: str = func_name\n",
    "        description: str = docstring\n",
    "        args_schema: Type[tool_schema] = tool_schema\n",
    "        \n",
    "        def _run(self, *args, **kwargs): # todo: should i annotate the return type here?\n",
    "            # todo: how do I pass the arguments to the function?\n",
    "            return func(*args, **kwargs)\n",
    "    \n",
    "    return Tool\n"
   ],
   "id": "48d3fd5e2c8b3b6b",
   "outputs": [],
   "execution_count": 34
  },
  {
   "metadata": {
    "ExecuteTime": {
     "end_time": "2024-05-05T00:57:48.360442Z",
     "start_time": "2024-05-05T00:57:47.357660Z"
    }
   },
   "cell_type": "code",
   "source": [
    "code = inspect.getsource(tool_1)\n",
    "res1 = generate_tool_description(code)"
   ],
   "id": "b93ddfdbf91a6f9b",
   "outputs": [],
   "execution_count": 19
  },
  {
   "metadata": {
    "ExecuteTime": {
     "end_time": "2024-05-05T01:03:49.345838Z",
     "start_time": "2024-05-05T01:03:42.560220Z"
    }
   },
   "cell_type": "code",
   "source": [
    "# todo: now, test with a function witha really stupid name and wrong docstring\n",
    "def stupid_function(a: int, b: int = 1, c: float = 10.5):\n",
    "    \"\"\"This function is a test function that does nothing.\"\"\"\n",
    "    # but in fact this should do something.\n",
    "    # complex and meaningful stuff\n",
    "    if a == 0:\n",
    "        return b\n",
    "    return stupid_function(b % a, a)\n",
    "res2 = generate_tool_description(inspect.getsource(stupid_function), model=\"gpt-4-turbo\")"
   ],
   "id": "31a7ccd5525ed195",
   "outputs": [],
   "execution_count": 32
  },
  {
   "metadata": {
    "ExecuteTime": {
     "end_time": "2024-05-05T01:03:50.141559Z",
     "start_time": "2024-05-05T01:03:50.135789Z"
    }
   },
   "cell_type": "code",
   "source": "res2",
   "id": "a581adf655cf7b99",
   "outputs": [
    {
     "data": {
      "text/plain": [
       "{'name': 'stupid_function',\n",
       " 'description': 'A recursive function that calculates the greatest common divisor (GCD) using the Euclidean algorithm, but defaults to returning the second parameter if the first parameter is zero.'}"
      ]
     },
     "execution_count": 33,
     "metadata": {},
     "output_type": "execute_result"
    }
   ],
   "execution_count": 33
  },
  {
   "metadata": {
    "ExecuteTime": {
     "end_time": "2024-05-05T01:05:26.028897Z",
     "start_time": "2024-05-05T01:05:24.220267Z"
    }
   },
   "cell_type": "code",
   "source": [
    "res3 = generate_tool_description(inspect.getsource(stupid_function), model=\"gpt-4-turbo\")\n",
    "res3"
   ],
   "id": "616c4d788f3dd337",
   "outputs": [
    {
     "data": {
      "text/plain": [
       "{'name': 'calculate_gcd',\n",
       " 'description': 'A function that calculates the greatest common divisor (GCD) of two integers using Euclidean algorithm.'}"
      ]
     },
     "execution_count": 35,
     "metadata": {},
     "output_type": "execute_result"
    }
   ],
   "execution_count": 35
  },
  {
   "metadata": {},
   "cell_type": "code",
   "outputs": [],
   "execution_count": null,
   "source": "",
   "id": "12f2309286f69a33"
  }
 ],
 "metadata": {
  "kernelspec": {
   "display_name": "Python 3",
   "language": "python",
   "name": "python3"
  },
  "language_info": {
   "codemirror_mode": {
    "name": "ipython",
    "version": 2
   },
   "file_extension": ".py",
   "mimetype": "text/x-python",
   "name": "python",
   "nbconvert_exporter": "python",
   "pygments_lexer": "ipython2",
   "version": "2.7.6"
  }
 },
 "nbformat": 4,
 "nbformat_minor": 5
}
